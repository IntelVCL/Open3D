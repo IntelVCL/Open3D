{
 "cells": [
  {
   "cell_type": "code",
   "execution_count": null,
   "metadata": {
    "nbsphinx": "hidden"
   },
   "outputs": [],
   "source": [
    "import open3d as o3d\n",
    "import numpy as np\n",
    "import copy\n",
    "import os\n",
    "import sys\n",
    "\n",
    "# monkey patches visualization and provides helpers to load geometries\n",
    "sys.path.append('..')\n",
    "import open3d_tutorial as o3dtut\n",
    "# change to True if you want to interact with the visualization windows\n",
    "o3dtut.interactive = not \"CI\" in os.environ"
   ]
  },
  {
   "cell_type": "markdown",
   "metadata": {},
   "source": [
    "# Colored point cloud registration\n",
    "This tutorial demonstrates an ICP variant that uses both geometry and color for registration. It implements the algorithm of [\\[Park2017\\]](../reference.html#park2017). The color information locks the alignment along the tangent plane. Thus this algorithm is more accurate and more robust than prior point cloud registration algorithms, while the running speed is comparable to that of ICP registration. This tutorial uses notations from [ICP registration](../pipelines/icp_registration.ipynb)."
   ]
  },
  {
   "cell_type": "markdown",
   "metadata": {},
   "source": [
    "## Helper visualization function\n",
    "In order to demonstrate the alignment between colored point clouds, `draw_registration_result_original_color` renders point clouds with their original color."
   ]
  },
  {
   "cell_type": "code",
   "execution_count": null,
   "metadata": {},
   "outputs": [],
   "source": [
    "def draw_registration_result_original_color(source, target, transformation):\n",
    "    source_temp = copy.deepcopy(source)\n",
    "    source_temp.transform(transformation)\n",
    "    o3d.visualization.draw_geometries([source_temp, target],\n",
    "                                      zoom=0.5,\n",
    "                                      front=[-0.2458, -0.8088, 0.5342],\n",
    "                                      lookat=[1.7745, 2.2305, 0.9787],\n",
    "                                      up=[0.3109, -0.5878, -0.7468])"
   ]
  },
  {
   "cell_type": "markdown",
   "metadata": {},
   "source": [
    "## Input\n",
    "The code below reads a source point cloud and a target point cloud from two files. An identity matrix is used as initialization for the registration."
   ]
  },
  {
   "cell_type": "code",
   "execution_count": null,
   "metadata": {},
   "outputs": [],
   "source": [
    "print(\"1. Load two point clouds and show initial pose\")\n",
    "source = o3d.io.read_point_cloud(\"../../test_data/ColoredICP/frag_115.ply\")\n",
    "target = o3d.io.read_point_cloud(\"../../test_data/ColoredICP/frag_116.ply\")\n",
    "\n",
    "# draw initial alignment\n",
    "current_transformation = np.identity(4)\n",
    "draw_registration_result_original_color(source, target, current_transformation)"
   ]
  },
  {
   "cell_type": "markdown",
   "metadata": {},
   "source": [
    "## Point-to-plane ICP\n",
    "We first run [Point-to-plane ICP](../pipelines/icp_registration.ipynb#Point-to-plane-ICP) as a baseline approach. The visualization below shows misaligned green triangle textures. This is because a geometric constraint does not prevent two planar surfaces from slipping."
   ]
  },
  {
   "cell_type": "code",
   "execution_count": null,
   "metadata": {},
   "outputs": [],
   "source": [
    "# point to plane ICP\n",
    "current_transformation = np.identity(4)\n",
    "print(\"2. Point-to-plane ICP registration is applied on original point\")\n",
    "print(\"   clouds to refine the alignment. Distance threshold 0.02.\")\n",
    "result_icp = o3d.pipelines.registration.registration_icp(\n",
    "    source, target, 0.02, current_transformation,\n",
    "    o3d.pipelines.registration.TransformationEstimationPointToPlane())\n",
    "print(result_icp)\n",
    "draw_registration_result_original_color(source, target,\n",
    "                                        result_icp.transformation)"
   ]
  },
  {
   "cell_type": "markdown",
   "metadata": {},
   "source": [
    "## Colored point cloud registration\n",
    "The core function for colored point cloud registration is `registration_colored_icp`. Following [\\[Park2017\\]](../reference.html#park2017), it runs ICP iterations (see [Point-to-point ICP](../pipelines/icp_registration.ipynb#Point-to-point-ICP) for details) with a joint optimization objective\n",
    "\n",
    "\\begin{equation}\n",
    "E(\\mathbf{T}) = (1-\\delta)E_{C}(\\mathbf{T}) + \\delta E_{G}(\\mathbf{T})\n",
    "\\end{equation}\n",
    "\n",
    "where $\\mathbf{T}$ is the transformation matrix to be estimated. $E_{C}$ and $E_{G}$ are the photometric and geometric terms, respectively. $\\delta\\in[0,1]$ is a weight parameter that has been determined empirically.\n",
    "\n",
    "The geometric term $E_{G}$ is the same as the [Point-to-plane ICP](../pipelines/icp_registration.ipynb#Point-to-plane-ICP) objective\n",
    "\n",
    "\\begin{equation}\n",
    "E_{G}(\\mathbf{T}) = \\sum_{(\\mathbf{p},\\mathbf{q})\\in\\mathcal{K}}\\big((\\mathbf{p} - \\mathbf{T}\\mathbf{q})\\cdot\\mathbf{n}_{\\mathbf{p}}\\big)^{2},\n",
    "\\end{equation}\n",
    "\n",
    "where $\\mathcal{K}$ is the correspondence set in the current iteration. $\\mathbf{n}_{\\mathbf{p}}$ is the normal of point $\\mathbf{p}$.\n",
    "\n",
    "The color term $E_{C}$ measures the difference between the color of point $\\mathbf{q}$ (denoted as $C(\\mathbf{q})$) and the color of its projection on the tangent plane of $\\mathbf{p}$.\n",
    "\n",
    "\\begin{equation}\n",
    "E_{C}(\\mathbf{T}) = \\sum_{(\\mathbf{p},\\mathbf{q})\\in\\mathcal{K}}\\big(C_{\\mathbf{p}}(\\mathbf{f}(\\mathbf{T}\\mathbf{q})) - C(\\mathbf{q})\\big)^{2},\n",
    "\\end{equation}\n",
    "\n",
    "where $C_{\\mathbf{p}}(\\cdot)$ is a precomputed function continuously defined on the tangent plane of $\\mathbf{p}$. Function$\\mathbf{f}(\\cdot)$ projects a 3D point to the tangent plane. For more details, refer to [\\[Park2017\\]](../reference.html#park2017).\n",
    "\n",
    "To further improve efficiency, [\\[Park2017\\]](../reference.html#park2017) proposes a multi-scale registration scheme. This has been implemented in the following script."
   ]
  },
  {
   "cell_type": "code",
   "execution_count": null,
   "metadata": {},
   "outputs": [],
   "source": [
    "# colored pointcloud registration\n",
    "# This is implementation of following paper\n",
    "# J. Park, Q.-Y. Zhou, V. Koltun,\n",
    "# Colored Point Cloud Registration Revisited, ICCV 2017\n",
    "voxel_radius = o3d.utility.DoubleVector([0.04, 0.02, 0.01])\n",
    "\n",
    "current_transformation = np.identity(4)\n",
    "criteria_list = [\n",
    "    o3d.pipelines.registration.ICPConvergenceCriteria(relative_fitness=1e-3,\n",
    "                                                      relative_rmse=1e-3,\n",
    "                                                      max_iteration=50),\n",
    "    o3d.pipelines.registration.ICPConvergenceCriteria(relative_fitness=1e-4,\n",
    "                                                      relative_rmse=1e-4,\n",
    "                                                      max_iteration=30),\n",
    "    o3d.pipelines.registration.ICPConvergenceCriteria(relative_fitness=1e-6,\n",
    "                                                      relative_rmse=1e-6,\n",
    "                                                      max_iteration=14)\n",
    "]\n",
    "\n",
    "source.estimate_normals(\n",
    "    o3d.geometry.KDTreeSearchParamHybrid(radius=voxel_radius[2] * 2, max_nn=30))\n",
    "target.estimate_normals(\n",
    "    o3d.geometry.KDTreeSearchParamHybrid(radius=voxel_radius[2] * 2, max_nn=30))\n",
    "\n",
    "print(\"3. Colored point cloud multi-scale registration\")\n",
    "result_icp = o3d.pipelines.registration.registration_multi_scale_icp(\n",
    "    source, target, voxel_radius, criteria_list, voxel_radius,\n",
    "    current_transformation,\n",
    "    o3d.pipelines.registration.TransformationEstimationForColoredICP())\n",
    "\n",
    "current_transformation = result_icp.transformation\n",
    "print(result_icp)\n",
    "draw_registration_result_original_color(source, target,\n",
    "                                        result_icp.transformation)"
   ]
  },
  {
   "cell_type": "markdown",
   "metadata": {},
   "source": [
    "### Depreciation Notice \n",
    "`registration_colored_icp` is depreciated, now `registration_icp` or `registration_multi_scale_icp` may be directly used with `TransformationEstimationForColoredICP` for `ColoredICP`."
   ]
  },
  {
   "source": [
    "\n",
    "In total, 3 layers of multi-resolution point clouds are registered from coarse to fine with `registration_multi_scale_icp` with `TransformationEstimationForColoredICP`. `lambda_geometric` is an optional argument for `TransformationEstimationForColoredICP` that determines $\\lambda \\in [0, 1]$ in the overall energy $\\lambda E_{G} + (1-\\lambda) E_{C}$.\n",
    "\n",
    "The output is a tight alignment of the two point clouds. Notice the green triangles on the wall.\n"
   ],
   "cell_type": "markdown",
   "metadata": {}
  }
 ],
 "metadata": {
  "celltoolbar": "Edit Metadata",
  "kernelspec": {
   "display_name": "Python 3",
   "language": "python",
   "name": "python3"
  },
  "language_info": {
   "codemirror_mode": {
    "name": "ipython",
    "version": 3
   },
   "file_extension": ".py",
   "mimetype": "text/x-python",
   "name": "python",
   "nbconvert_exporter": "python",
   "pygments_lexer": "ipython3",
   "version": "3.6.12"
  }
 },
 "nbformat": 4,
 "nbformat_minor": 2
}